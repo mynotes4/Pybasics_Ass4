{
 "cells": [
  {
   "cell_type": "markdown",
   "id": "bd7e7e64",
   "metadata": {},
   "source": [
    "1. What exactly is []?\n",
    "\n",
    "Ans - It denotes empty list."
   ]
  },
  {
   "cell_type": "markdown",
   "id": "c37f766f",
   "metadata": {},
   "source": [
    "2. In a list of values stored in a variable called spam, how would you assign the value 'hello' as the third value? (Assume [2, 4, 6, 8, 10] are in spam.)\n",
    "\n",
    "Ans - "
   ]
  },
  {
   "cell_type": "code",
   "execution_count": null,
   "id": "574fdfd3",
   "metadata": {},
   "outputs": [],
   "source": [
    "#Answer for q2\n",
    "spam = [2 , 4 , 6 , 8 , 10]\n",
    "spam[2] = \"hello\""
   ]
  },
  {
   "cell_type": "code",
   "execution_count": null,
   "id": "9a5ec320",
   "metadata": {},
   "outputs": [],
   "source": [
    "#Answer for q2 using insert\n",
    "spam = [2 , 4 , 6 , 8 , 10]\n",
    "spam.insert(2,\"hello\")"
   ]
  },
  {
   "cell_type": "markdown",
   "id": "ca83179f",
   "metadata": {},
   "source": [
    "3. What is the value of spam[int(int('3' * 2) / 11)]?\n",
    "\n",
    "spam = [\"a\",\"b\",\"c\",\"d\"]\n",
    "\n",
    "Ans - '3'*2 = '333'\n",
    "\n",
    "int('3'*2) = 333\n",
    "\n",
    "333/11 = 3.00\n",
    "\n",
    "int(int('3'*2)/11) = 3\n",
    "\n",
    "spam[int(int('3'*2)/11)] = \"d\""
   ]
  },
  {
   "cell_type": "markdown",
   "id": "ad9181b3",
   "metadata": {},
   "source": [
    "4. What is the value of spam[-1]?\n",
    "\n",
    "Ans - \"d\""
   ]
  },
  {
   "cell_type": "markdown",
   "id": "6ecdc6ae",
   "metadata": {},
   "source": [
    "5. What is the value of spam[:2]?\n",
    "\n",
    "Ans - [\"a\",\"b\"]"
   ]
  },
  {
   "cell_type": "markdown",
   "id": "28e9bd8f",
   "metadata": {},
   "source": [
    "Let's pretend bacon has the list [3.14, 'cat,' 11, 'cat,' True] for the next three questions.\n",
    "\n",
    "6. What is the value of bacon.index('cat')?\n",
    "\n",
    "Ans - 1"
   ]
  },
  {
   "cell_type": "markdown",
   "id": "6ab859b9",
   "metadata": {},
   "source": [
    "7. How does bacon.append(99) change the look of the list value in bacon?\n",
    "\n",
    "Ans - List becomes [3.14, 'cat,' 11, 'cat,' True , 99] and total number of elements becomes 6 i.e it increases by 1."
   ]
  },
  {
   "cell_type": "markdown",
   "id": "40b1ee21",
   "metadata": {},
   "source": [
    "8. How does bacon.remove('cat') change the look of the list in bacon?\n",
    "\n",
    "Ans - List becomes [3.14, 11, 'cat,' True] and total number of elements becomes 4 i.e it reduces by 1."
   ]
  },
  {
   "cell_type": "markdown",
   "id": "d7cc184e",
   "metadata": {},
   "source": [
    "9. What are the list concatenation and list replication operators?\n",
    "\n",
    "Ans - concatenation = +\n",
    "\n",
    "replication = *"
   ]
  },
  {
   "cell_type": "markdown",
   "id": "f16e997d",
   "metadata": {},
   "source": [
    "10. What is difference between the list methods append() and insert()?\n",
    "\n",
    "Ans - apend() adds the given entity/object to the end of the list while insert() help us to add an entity/object in the list at the desired position."
   ]
  },
  {
   "cell_type": "markdown",
   "id": "dcb3e776",
   "metadata": {},
   "source": [
    "11. What are the two methods for removing items from a list?\n",
    "\n",
    "Ans - pop() and remove()"
   ]
  },
  {
   "cell_type": "markdown",
   "id": "90cbf015",
   "metadata": {},
   "source": [
    "12. Describe how list values and string values are identical.\n",
    "\n",
    "Ans - Both lists and strings are sequences. Both have lengths and have indexing."
   ]
  },
  {
   "cell_type": "markdown",
   "id": "d5a63c42",
   "metadata": {},
   "source": [
    "13. What's the difference between tuples and lists?\n",
    "\n",
    "Ans - Tuples are immutable while lists are mutable. Tuples have () brackets while lists have [] brackets."
   ]
  },
  {
   "cell_type": "markdown",
   "id": "7d6f1268",
   "metadata": {},
   "source": [
    "14. How do you type a tuple value that only contains the integer 42?\n",
    "\n",
    "Ans - t = (42)"
   ]
  },
  {
   "cell_type": "markdown",
   "id": "eb3db677",
   "metadata": {},
   "source": [
    "15. How do you get a list value's tuple form? How do you get a tuple value's list form?\n",
    "\n",
    "Ans - Let tuple be t. Tuple to list - list(t)\n",
    "\n",
    "Let list be l. List to tuple - tuple(t)"
   ]
  },
  {
   "cell_type": "markdown",
   "id": "0f724f79",
   "metadata": {},
   "source": [
    "16. Variables that \"contain\" list values are not necessarily lists themselves. Instead, what do they contain?\n",
    "\n",
    "Ans - dictionary , tuples , sets"
   ]
  },
  {
   "cell_type": "markdown",
   "id": "571b8c5f",
   "metadata": {},
   "source": [
    "17. How do you distinguish between copy.copy() and copy.deepcopy()?\n",
    "\n",
    "Ans - copy.copy() create reference to original object i.e if you change copied object - you will change the original object. copy.deepcopy() creates new object and does real copying of original object to new one. Changing new deepcopied object doesn't affect original one."
   ]
  }
 ],
 "metadata": {
  "kernelspec": {
   "display_name": "Python 3 (ipykernel)",
   "language": "python",
   "name": "python3"
  },
  "language_info": {
   "codemirror_mode": {
    "name": "ipython",
    "version": 3
   },
   "file_extension": ".py",
   "mimetype": "text/x-python",
   "name": "python",
   "nbconvert_exporter": "python",
   "pygments_lexer": "ipython3",
   "version": "3.9.12"
  }
 },
 "nbformat": 4,
 "nbformat_minor": 5
}
